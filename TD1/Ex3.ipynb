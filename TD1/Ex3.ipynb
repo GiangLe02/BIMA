{
 "cells": [
  {
   "cell_type": "code",
   "execution_count": null,
   "metadata": {},
   "outputs": [],
   "source": [
    "f = [10, 2, 1, 1, 10, 2, 6,\n",
    "     7, 5, 5, 4, 4, 2, 3,\n",
    "     7, 2, 0, 3, 2, 1, 8,\n",
    "     6, 3, 2, 0, 3, 0, 3,\n",
    "     5, 3, 2, 7, 0, 3, 5]\n",
    "L = max(f) +1\n",
    "H = [0] * L\n",
    "for i in range(len(f)):\n",
    "    H[f[i]] += 1\n",
    "\n"
   ]
  }
 ],
 "metadata": {
  "language_info": {
   "name": "python"
  }
 },
 "nbformat": 4,
 "nbformat_minor": 2
}
